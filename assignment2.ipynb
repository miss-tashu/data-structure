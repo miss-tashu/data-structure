{
 "cells": [
  {
   "cell_type": "code",
   "execution_count": null,
   "id": "ff9c410b-12ae-4504-805c-3a59e962f5f4",
   "metadata": {},
   "outputs": [],
   "source": [
    "#DISCUSS STRING SLICING AND PROVIDE EXAMPLES?"
   ]
  },
  {
   "cell_type": "code",
   "execution_count": null,
   "id": "f1547436-03f8-4709-b521-2df4577516c2",
   "metadata": {},
   "outputs": [],
   "source": [
    "#string is a sequence of character that represent and manipulate textual data.\n",
    "#the characters are represented using numerical values in which each character is assigned a uniques value.\n",
    "#string/extract of string\n",
    "#let us see examples:-"
   ]
  },
  {
   "cell_type": "code",
   "execution_count": 1,
   "id": "3bbfd2fc-2299-44b3-94e2-445538b40e74",
   "metadata": {},
   "outputs": [
    {
     "data": {
      "text/plain": [
       "'a'"
      ]
     },
     "execution_count": 1,
     "metadata": {},
     "output_type": "execute_result"
    }
   ],
   "source": [
    "a=\"tashu\"\n",
    "a[1]"
   ]
  },
  {
   "cell_type": "code",
   "execution_count": 2,
   "id": "1c5df617-6301-4cd0-888d-35ff6b2f1d8b",
   "metadata": {},
   "outputs": [
    {
     "data": {
      "text/plain": [
       "'u'"
      ]
     },
     "execution_count": 2,
     "metadata": {},
     "output_type": "execute_result"
    }
   ],
   "source": [
    "a[4]"
   ]
  },
  {
   "cell_type": "code",
   "execution_count": 4,
   "id": "4749f424-1e88-48f3-87ee-1f821ecb3748",
   "metadata": {},
   "outputs": [
    {
     "data": {
      "text/plain": [
       "'I AM'"
      ]
     },
     "execution_count": 4,
     "metadata": {},
     "output_type": "execute_result"
    }
   ],
   "source": [
    "string1=\"I AM AN MEDICAL STUDENT\"\n",
    "string1[0:4]"
   ]
  },
  {
   "cell_type": "code",
   "execution_count": 5,
   "id": "4d4d355a-458f-4e7a-b10d-3bba6faaf4fc",
   "metadata": {},
   "outputs": [
    {
     "data": {
      "text/plain": [
       "'AN MEDI'"
      ]
     },
     "execution_count": 5,
     "metadata": {},
     "output_type": "execute_result"
    }
   ],
   "source": [
    "string1[5:12]"
   ]
  },
  {
   "cell_type": "raw",
   "id": "89a0b2f2-a64d-4f03-b2da-bd7fd1767e03",
   "metadata": {},
   "source": [
    "string1=[0:]"
   ]
  },
  {
   "cell_type": "code",
   "execution_count": 7,
   "id": "3fc96e22-033b-4b8a-bc0d-d88d85c330f1",
   "metadata": {},
   "outputs": [
    {
     "data": {
      "text/plain": [
       "'I AM AN MEDICAL STUDENT'"
      ]
     },
     "execution_count": 7,
     "metadata": {},
     "output_type": "execute_result"
    }
   ],
   "source": [
    "string1[0:]"
   ]
  },
  {
   "cell_type": "code",
   "execution_count": 8,
   "id": "2713d131-55be-438d-a84a-1d7564c7096a",
   "metadata": {},
   "outputs": [],
   "source": [
    "#EXPLAIN THE KEY FEATURES OF LISTS IN PYTHON?"
   ]
  },
  {
   "cell_type": "code",
   "execution_count": 10,
   "id": "b23650f3-090c-4c6d-8e1d-fae40fbf0272",
   "metadata": {},
   "outputs": [],
   "source": [
    "#List are oderderd collection of items.\n",
    "#list is heterogenous that can store any data type.\n",
    "#list can be conditional.\n",
    "#list is mutable.\n",
    "#let us see examples:-"
   ]
  },
  {
   "cell_type": "code",
   "execution_count": 11,
   "id": "0b9d7626-03ab-46f7-96dc-7ed69b023622",
   "metadata": {},
   "outputs": [],
   "source": [
    "sub=[\"cs\",\"eng\",\"sst\"]"
   ]
  },
  {
   "cell_type": "code",
   "execution_count": 12,
   "id": "bd11356e-36c3-4771-9a1b-dfad83b29a7e",
   "metadata": {},
   "outputs": [
    {
     "data": {
      "text/plain": [
       "['cs', 'eng', 'sst']"
      ]
     },
     "execution_count": 12,
     "metadata": {},
     "output_type": "execute_result"
    }
   ],
   "source": [
    "sub"
   ]
  },
  {
   "cell_type": "code",
   "execution_count": 13,
   "id": "1a1064bf-cecb-4975-b209-8577d33b781a",
   "metadata": {},
   "outputs": [
    {
     "data": {
      "text/plain": [
       "type[['cs', 'eng', 'sst']]"
      ]
     },
     "execution_count": 13,
     "metadata": {},
     "output_type": "execute_result"
    }
   ],
   "source": [
    "type[sub]"
   ]
  },
  {
   "cell_type": "code",
   "execution_count": 14,
   "id": "f8c6d2ea-5a5f-4eaf-ac66-d124f9605637",
   "metadata": {},
   "outputs": [
    {
     "data": {
      "text/plain": [
       "list"
      ]
     },
     "execution_count": 14,
     "metadata": {},
     "output_type": "execute_result"
    }
   ],
   "source": [
    "type(sub)"
   ]
  },
  {
   "cell_type": "code",
   "execution_count": 15,
   "id": "94caa390-bc5d-4800-97f5-1c95745665bc",
   "metadata": {},
   "outputs": [
    {
     "data": {
      "text/plain": [
       "['thriller', 'action', 'romantic']"
      ]
     },
     "execution_count": 15,
     "metadata": {},
     "output_type": "execute_result"
    }
   ],
   "source": [
    "movies=[\"thriller\",\"action\",\"romantic\"]\n",
    "movies"
   ]
  },
  {
   "cell_type": "code",
   "execution_count": 17,
   "id": "f9edb5c9-f5bc-430e-9d93-c5c7913f21d8",
   "metadata": {},
   "outputs": [
    {
     "data": {
      "text/plain": [
       "['thriller', 'action', 'romantic', 'sci-fric', 'sciencefric']"
      ]
     },
     "execution_count": 17,
     "metadata": {},
     "output_type": "execute_result"
    }
   ],
   "source": [
    "movies.append(\"sciencefric\")\n",
    "movies"
   ]
  },
  {
   "cell_type": "code",
   "execution_count": 20,
   "id": "3b7b9ac1-baea-4fda-9d26-5735da428431",
   "metadata": {},
   "outputs": [
    {
     "data": {
      "text/plain": [
       "['thriller',\n",
       " 'sad',\n",
       " 'sad',\n",
       " 'sad',\n",
       " 'action',\n",
       " 'romantic',\n",
       " 'sci-fric',\n",
       " 'sciencefric']"
      ]
     },
     "execution_count": 20,
     "metadata": {},
     "output_type": "execute_result"
    }
   ],
   "source": [
    "movies.insert(1,\"sad\")\n",
    "movies"
   ]
  },
  {
   "cell_type": "code",
   "execution_count": 22,
   "id": "ef79b73a-dca7-43cd-aa8e-80ccd599cd86",
   "metadata": {},
   "outputs": [
    {
     "data": {
      "text/plain": [
       "3"
      ]
     },
     "execution_count": 22,
     "metadata": {},
     "output_type": "execute_result"
    }
   ],
   "source": [
    "movies.count(\"sad\")"
   ]
  },
  {
   "cell_type": "code",
   "execution_count": 23,
   "id": "561d2034-0958-4fa9-99fa-898a29dceae7",
   "metadata": {},
   "outputs": [],
   "source": [
    "#describe how to modify ,access and delete elements in a list?"
   ]
  },
  {
   "cell_type": "code",
   "execution_count": 24,
   "id": "53fd61a0-ddf7-450c-b4bc-16cb1667c4e9",
   "metadata": {},
   "outputs": [],
   "source": [
    "#for list modifictaion slicing can be used:"
   ]
  },
  {
   "cell_type": "code",
   "execution_count": 25,
   "id": "68032cab-0ce0-4f80-9b69-88bf2114f7b1",
   "metadata": {},
   "outputs": [
    {
     "data": {
      "text/plain": [
       "['one', 'two', 'three']"
      ]
     },
     "execution_count": 25,
     "metadata": {},
     "output_type": "execute_result"
    }
   ],
   "source": [
    "l=[\"one\",\"two\",\"three\"]\n",
    "l"
   ]
  },
  {
   "cell_type": "code",
   "execution_count": 28,
   "id": "ec5c639c-156e-44b9-9d1c-bb30abd4da31",
   "metadata": {},
   "outputs": [
    {
     "data": {
      "text/plain": [
       "[0, 1, 'three']"
      ]
     },
     "execution_count": 28,
     "metadata": {},
     "output_type": "execute_result"
    }
   ],
   "source": [
    "l[0:2]=[0,1]\n",
    "l"
   ]
  },
  {
   "cell_type": "code",
   "execution_count": 31,
   "id": "bbfdb08c-ab8a-41ac-9e4e-db1266f5152d",
   "metadata": {},
   "outputs": [
    {
     "data": {
      "text/plain": [
       "[0, 1, 'three', 'four', 'four', 'four']"
      ]
     },
     "execution_count": 31,
     "metadata": {},
     "output_type": "execute_result"
    }
   ],
   "source": [
    "l.append(\"four\")\n",
    "l"
   ]
  },
  {
   "cell_type": "code",
   "execution_count": null,
   "id": "32034648-8c68-470a-8b90-d02a1ef487c9",
   "metadata": {},
   "outputs": [],
   "source": [
    "#for delete elements :-"
   ]
  },
  {
   "cell_type": "code",
   "execution_count": 33,
   "id": "93e92e58-133b-4ad2-8e42-dfcca5cafcad",
   "metadata": {},
   "outputs": [
    {
     "data": {
      "text/plain": [
       "[0, 'three', 'four', 'four', 'four']"
      ]
     },
     "execution_count": 33,
     "metadata": {},
     "output_type": "execute_result"
    }
   ],
   "source": [
    "l.pop(1)\n",
    "l"
   ]
  },
  {
   "cell_type": "code",
   "execution_count": 35,
   "id": "0b3ed247-566d-4efb-974c-8afab3541d68",
   "metadata": {},
   "outputs": [
    {
     "data": {
      "text/plain": [
       "[0, 'three', 'four']"
      ]
     },
     "execution_count": 35,
     "metadata": {},
     "output_type": "execute_result"
    }
   ],
   "source": [
    "del l[3]\n",
    "l"
   ]
  },
  {
   "cell_type": "code",
   "execution_count": 36,
   "id": "209bf9a5-20ea-4c4d-80d3-5f32c70d12e7",
   "metadata": {},
   "outputs": [],
   "source": [
    "#compare and contrast list and tuples?"
   ]
  },
  {
   "cell_type": "code",
   "execution_count": 37,
   "id": "df747840-538a-4e9b-b7f4-ea3fe7dfcfde",
   "metadata": {},
   "outputs": [],
   "source": [
    "#list is mutable and tuples is immutable.\n",
    "#let us see examples:"
   ]
  },
  {
   "cell_type": "code",
   "execution_count": 38,
   "id": "7a9bb40d-bf46-4f4c-aa6e-e537505af646",
   "metadata": {},
   "outputs": [],
   "source": [
    "s=[\"cs\",\"chem\",\"bio\",\"phy\"]"
   ]
  },
  {
   "cell_type": "code",
   "execution_count": 39,
   "id": "f227575e-26c2-42b5-8225-da478eee16f2",
   "metadata": {},
   "outputs": [
    {
     "data": {
      "text/plain": [
       "['cs', 'chem', 'bio', 'phy']"
      ]
     },
     "execution_count": 39,
     "metadata": {},
     "output_type": "execute_result"
    }
   ],
   "source": [
    "s"
   ]
  },
  {
   "cell_type": "code",
   "execution_count": 41,
   "id": "3d6a8dd2-28ee-4151-befc-bb4c7a81d274",
   "metadata": {},
   "outputs": [
    {
     "data": {
      "text/plain": [
       "['math', 'chem', 'bio', 'phy']"
      ]
     },
     "execution_count": 41,
     "metadata": {},
     "output_type": "execute_result"
    }
   ],
   "source": [
    "s[0]=\"math\"   #list is mutable\n",
    "s"
   ]
  },
  {
   "cell_type": "code",
   "execution_count": 44,
   "id": "ba381eec-96e5-450a-ac82-ed1933cf2e97",
   "metadata": {},
   "outputs": [
    {
     "data": {
      "text/plain": [
       "tuple"
      ]
     },
     "execution_count": 44,
     "metadata": {},
     "output_type": "execute_result"
    }
   ],
   "source": [
    "t=(\"tashu\",2,3,6+7j,\"amina\")\n",
    "type(t)"
   ]
  },
  {
   "cell_type": "code",
   "execution_count": 45,
   "id": "f22a8f07-6078-4cf5-aadc-4a0cb14d41d5",
   "metadata": {},
   "outputs": [
    {
     "data": {
      "text/plain": [
       "('tashu', 2, 3, (6+7j), 'amina')"
      ]
     },
     "execution_count": 45,
     "metadata": {},
     "output_type": "execute_result"
    }
   ],
   "source": [
    "t"
   ]
  },
  {
   "cell_type": "code",
   "execution_count": 46,
   "id": "9745cba1-cc36-48ae-ab68-40895996d192",
   "metadata": {},
   "outputs": [
    {
     "ename": "TypeError",
     "evalue": "'tuple' object does not support item assignment",
     "output_type": "error",
     "traceback": [
      "\u001b[0;31m---------------------------------------------------------------------------\u001b[0m",
      "\u001b[0;31mTypeError\u001b[0m                                 Traceback (most recent call last)",
      "Cell \u001b[0;32mIn[46], line 1\u001b[0m\n\u001b[0;32m----> 1\u001b[0m \u001b[43mt\u001b[49m\u001b[43m[\u001b[49m\u001b[38;5;241;43m0\u001b[39;49m\u001b[43m]\u001b[49m\u001b[38;5;241m=\u001b[39m\u001b[38;5;124m\"\u001b[39m\u001b[38;5;124msky\u001b[39m\u001b[38;5;124m\"\u001b[39m\n\u001b[1;32m      2\u001b[0m t\n",
      "\u001b[0;31mTypeError\u001b[0m: 'tuple' object does not support item assignment"
     ]
    }
   ],
   "source": [
    "t[0]=\"sky\"   #tuples are immutable\n",
    "t"
   ]
  },
  {
   "cell_type": "code",
   "execution_count": 47,
   "id": "165d63e8-f713-452e-8cd9-dcac69f317c9",
   "metadata": {},
   "outputs": [],
   "source": [
    "#DESCRIBE KEY FEATURES OF SETS AND PROVIDE EXAMPLES?"
   ]
  },
  {
   "cell_type": "code",
   "execution_count": null,
   "id": "777cd08b-4f14-468f-862f-837de1cdd733",
   "metadata": {},
   "outputs": [],
   "source": [
    "#SETS are unordered & unique collection of elements \n",
    "# it does not allow duplicate element.\n",
    "# in sets unordered indexing not work."
   ]
  },
  {
   "cell_type": "code",
   "execution_count": 48,
   "id": "274c3758-75cb-4f4c-b31d-157b91298525",
   "metadata": {},
   "outputs": [
    {
     "data": {
      "text/plain": [
       "{1, 2, 3, 4}"
      ]
     },
     "execution_count": 48,
     "metadata": {},
     "output_type": "execute_result"
    }
   ],
   "source": [
    "s={1,2,3,4}\n",
    "s"
   ]
  },
  {
   "cell_type": "code",
   "execution_count": 49,
   "id": "9b1caf05-c940-4157-8646-7bc17d63cf68",
   "metadata": {},
   "outputs": [
    {
     "data": {
      "text/plain": [
       "set"
      ]
     },
     "execution_count": 49,
     "metadata": {},
     "output_type": "execute_result"
    }
   ],
   "source": [
    "type(s)"
   ]
  },
  {
   "cell_type": "code",
   "execution_count": 50,
   "id": "58b1c1b9-8bf4-4e71-b031-2515f57f7f5a",
   "metadata": {},
   "outputs": [
    {
     "data": {
      "text/plain": [
       "{1, 2, 3, 4, 100}"
      ]
     },
     "execution_count": 50,
     "metadata": {},
     "output_type": "execute_result"
    }
   ],
   "source": [
    "s.add(100)\n",
    "s"
   ]
  },
  {
   "cell_type": "code",
   "execution_count": 53,
   "id": "b701166a-6ef0-41bc-9f89-abb46b857aa0",
   "metadata": {},
   "outputs": [
    {
     "data": {
      "text/plain": [
       "{2, 3, 4, 100}"
      ]
     },
     "execution_count": 53,
     "metadata": {},
     "output_type": "execute_result"
    }
   ],
   "source": [
    "s.pop()\n",
    "s"
   ]
  },
  {
   "cell_type": "code",
   "execution_count": 54,
   "id": "683e8280-0704-43bf-a304-070576bd67dc",
   "metadata": {},
   "outputs": [],
   "source": [
    "# Discuss the use cases of tuples and sets in Python programming?"
   ]
  },
  {
   "cell_type": "code",
   "execution_count": null,
   "id": "05a5e87a-550f-4108-b0e1-2f1d41d508ba",
   "metadata": {},
   "outputs": [],
   "source": [
    "#use case of tuples>>use tuples as a data structure where you don't want to modify the data."
   ]
  },
  {
   "cell_type": "code",
   "execution_count": 56,
   "id": "32239c44-4142-4f9c-8f89-6a28034a0303",
   "metadata": {},
   "outputs": [
    {
     "data": {
      "text/plain": [
       "('sts', 1, 2.2, 3, 3)"
      ]
     },
     "execution_count": 56,
     "metadata": {},
     "output_type": "execute_result"
    }
   ],
   "source": [
    "tuple1=(\"sts\",1,2.2,3,3)\n",
    "tuple1"
   ]
  },
  {
   "cell_type": "code",
   "execution_count": 58,
   "id": "09090b62-1552-4324-8442-3c4fa8c105c5",
   "metadata": {},
   "outputs": [
    {
     "data": {
      "text/plain": [
       "1"
      ]
     },
     "execution_count": 58,
     "metadata": {},
     "output_type": "execute_result"
    }
   ],
   "source": [
    "tuple1.count(1)"
   ]
  },
  {
   "cell_type": "code",
   "execution_count": 59,
   "id": "39aed952-d6cd-4ed3-bbbe-f40e1e7deca4",
   "metadata": {},
   "outputs": [
    {
     "data": {
      "text/plain": [
       "0"
      ]
     },
     "execution_count": 59,
     "metadata": {},
     "output_type": "execute_result"
    }
   ],
   "source": [
    "tuple1.index(\"sts\")"
   ]
  },
  {
   "cell_type": "code",
   "execution_count": 60,
   "id": "699548ae-4232-49ab-8b57-d046c334bf71",
   "metadata": {},
   "outputs": [
    {
     "data": {
      "text/plain": [
       "('sts', 1, 2.2)"
      ]
     },
     "execution_count": 60,
     "metadata": {},
     "output_type": "execute_result"
    }
   ],
   "source": [
    "tuple1[0:3]"
   ]
  },
  {
   "cell_type": "code",
   "execution_count": 61,
   "id": "6a055976-0fdf-41f8-997c-9df552f8cbef",
   "metadata": {},
   "outputs": [],
   "source": [
    "#use case of sets"
   ]
  },
  {
   "cell_type": "code",
   "execution_count": 62,
   "id": "22b392d0-9ee2-40bd-a3ec-b34e1884f4ae",
   "metadata": {},
   "outputs": [
    {
     "data": {
      "text/plain": [
       "[1, 2, 3, 'brinjal', 'tomato']"
      ]
     },
     "execution_count": 62,
     "metadata": {},
     "output_type": "execute_result"
    }
   ],
   "source": [
    "list1=[1,2,3,\"brinjal\",\"tomato\"]\n",
    "list1"
   ]
  },
  {
   "cell_type": "code",
   "execution_count": 63,
   "id": "f4008c91-80d0-48aa-a963-eb628ab3445a",
   "metadata": {},
   "outputs": [
    {
     "data": {
      "text/plain": [
       "{1, 2, 3, 4}"
      ]
     },
     "execution_count": 63,
     "metadata": {},
     "output_type": "execute_result"
    }
   ],
   "source": [
    "s={1,2,3,4}\n",
    "s"
   ]
  },
  {
   "cell_type": "code",
   "execution_count": 64,
   "id": "6aaf26a1-233c-460f-b2b8-7a17da9e14ee",
   "metadata": {},
   "outputs": [
    {
     "data": {
      "text/plain": [
       "[1, 2, 3, 4]"
      ]
     },
     "execution_count": 64,
     "metadata": {},
     "output_type": "execute_result"
    }
   ],
   "source": [
    "list1=list(s)\n",
    "list1"
   ]
  },
  {
   "cell_type": "code",
   "execution_count": 65,
   "id": "064a8ff1-a38c-4485-90c4-0a2dfba23efc",
   "metadata": {},
   "outputs": [
    {
     "ename": "TypeError",
     "evalue": "'set' object is not subscriptable",
     "output_type": "error",
     "traceback": [
      "\u001b[0;31m---------------------------------------------------------------------------\u001b[0m",
      "\u001b[0;31mTypeError\u001b[0m                                 Traceback (most recent call last)",
      "Cell \u001b[0;32mIn[65], line 1\u001b[0m\n\u001b[0;32m----> 1\u001b[0m \u001b[43ms\u001b[49m\u001b[43m[\u001b[49m\u001b[38;5;241;43m0\u001b[39;49m\u001b[43m]\u001b[49m\n\u001b[1;32m      2\u001b[0m s\n",
      "\u001b[0;31mTypeError\u001b[0m: 'set' object is not subscriptable"
     ]
    }
   ],
   "source": [
    "s[0]\n",
    "s"
   ]
  },
  {
   "cell_type": "code",
   "execution_count": 66,
   "id": "d1161a1b-d197-4bf5-a052-cab9f9f5b8ca",
   "metadata": {},
   "outputs": [
    {
     "ename": "TypeError",
     "evalue": "unhashable type: 'set'",
     "output_type": "error",
     "traceback": [
      "\u001b[0;31m---------------------------------------------------------------------------\u001b[0m",
      "\u001b[0;31mTypeError\u001b[0m                                 Traceback (most recent call last)",
      "Cell \u001b[0;32mIn[66], line 1\u001b[0m\n\u001b[0;32m----> 1\u001b[0m s\u001b[38;5;241m=\u001b[39m{\u001b[38;5;241m1\u001b[39m,\u001b[38;5;241m2\u001b[39m,\u001b[38;5;241m3\u001b[39m,\u001b[38;5;241m4\u001b[39m,{\u001b[38;5;241m1\u001b[39m,\u001b[38;5;241m2\u001b[39m}}\n\u001b[1;32m      2\u001b[0m s\n",
      "\u001b[0;31mTypeError\u001b[0m: unhashable type: 'set'"
     ]
    }
   ],
   "source": [
    "s={1,2,3,4,{1,2}}   #set inside set must be immutable.\n",
    "s"
   ]
  },
  {
   "cell_type": "code",
   "execution_count": 67,
   "id": "0fd9fcd1-b883-4cb8-b085-cb4755d8ac7b",
   "metadata": {},
   "outputs": [
    {
     "data": {
      "text/plain": [
       "{(1, 2), 1, 2, 3, 4}"
      ]
     },
     "execution_count": 67,
     "metadata": {},
     "output_type": "execute_result"
    }
   ],
   "source": [
    "s={1,2,3,4,(1,2)} #not give error because tuple is immutable.\n",
    "s"
   ]
  },
  {
   "cell_type": "code",
   "execution_count": 68,
   "id": "2981547c-10b0-45ed-992b-04521130878e",
   "metadata": {},
   "outputs": [],
   "source": [
    "#DESCRIBE HOW TO ADD MODIFY DELETE ITEMS IN A DICTIONARIES ?"
   ]
  },
  {
   "cell_type": "code",
   "execution_count": 69,
   "id": "a5953104-f5d1-40d2-8804-8880a49c6b74",
   "metadata": {},
   "outputs": [],
   "source": [
    "#dictionary is a data structure that stores data as a key value pair.\n",
    "#keys are unique and immutable."
   ]
  },
  {
   "cell_type": "code",
   "execution_count": 70,
   "id": "dc9ab60a-532f-4fbc-8114-c12f2ca98f50",
   "metadata": {},
   "outputs": [
    {
     "data": {
      "text/plain": [
       "{'name': 'tashu', 'email': 'tashu@gmail.com', 'contact': '234'}"
      ]
     },
     "execution_count": 70,
     "metadata": {},
     "output_type": "execute_result"
    }
   ],
   "source": [
    "d={\"name\":\"tashu\",\"email\":\"tashu@gmail.com\",\"contact\":\"234\"}\n",
    "d"
   ]
  },
  {
   "cell_type": "code",
   "execution_count": 71,
   "id": "729f6c18-7207-408c-b927-8cc4cea2b559",
   "metadata": {},
   "outputs": [
    {
     "data": {
      "text/plain": [
       "'tashu'"
      ]
     },
     "execution_count": 71,
     "metadata": {},
     "output_type": "execute_result"
    }
   ],
   "source": [
    "d[\"name\"]"
   ]
  },
  {
   "cell_type": "code",
   "execution_count": 72,
   "id": "89e7c242-ba72-4176-a3a2-da885840e3fc",
   "metadata": {},
   "outputs": [
    {
     "data": {
      "text/plain": [
       "'tashu@gmail.com'"
      ]
     },
     "execution_count": 72,
     "metadata": {},
     "output_type": "execute_result"
    }
   ],
   "source": [
    "d[\"email\"]"
   ]
  },
  {
   "cell_type": "code",
   "execution_count": 73,
   "id": "d121cdbe-14c6-4519-b74d-cef921d5e16f",
   "metadata": {},
   "outputs": [
    {
     "data": {
      "text/plain": [
       "{'name': 'tashu', 'email': 'tashu@gmail.com', 'contact': '234'}"
      ]
     },
     "execution_count": 73,
     "metadata": {},
     "output_type": "execute_result"
    }
   ],
   "source": [
    "d.get(\"name\")\n",
    "d"
   ]
  },
  {
   "cell_type": "code",
   "execution_count": 74,
   "id": "4faf92f6-ff54-418b-b0da-d6adc0a167c3",
   "metadata": {},
   "outputs": [
    {
     "ename": "KeyError",
     "evalue": "1",
     "output_type": "error",
     "traceback": [
      "\u001b[0;31m---------------------------------------------------------------------------\u001b[0m",
      "\u001b[0;31mKeyError\u001b[0m                                  Traceback (most recent call last)",
      "Cell \u001b[0;32mIn[74], line 1\u001b[0m\n\u001b[0;32m----> 1\u001b[0m \u001b[43md\u001b[49m\u001b[43m[\u001b[49m\u001b[38;5;241;43m1\u001b[39;49m\u001b[43m]\u001b[49m\n",
      "\u001b[0;31mKeyError\u001b[0m: 1"
     ]
    }
   ],
   "source": [
    "d[1]"
   ]
  },
  {
   "cell_type": "code",
   "execution_count": 75,
   "id": "e5c966bd-bfa6-4fdd-a70f-308fa2d34625",
   "metadata": {},
   "outputs": [
    {
     "data": {
      "text/plain": [
       "{'email': 'tashu@gmail.com', 'contact': '234'}"
      ]
     },
     "execution_count": 75,
     "metadata": {},
     "output_type": "execute_result"
    }
   ],
   "source": [
    "d.pop(\"name\") #remove an element\n",
    "d"
   ]
  },
  {
   "cell_type": "code",
   "execution_count": 76,
   "id": "171e56ec-ba9f-460e-a926-a275f8ac4b1b",
   "metadata": {},
   "outputs": [
    {
     "data": {
      "text/plain": [
       "{'email': 'tashu@gmail.com', 'contact': '234', 'dep': 'medical'}"
      ]
     },
     "execution_count": 76,
     "metadata": {},
     "output_type": "execute_result"
    }
   ],
   "source": [
    "d[\"dep\"]=\"medical\"  #add an element\n",
    "d"
   ]
  },
  {
   "cell_type": "code",
   "execution_count": 5,
   "id": "ab01fd7a-9675-4e9d-a91b-f2409bdba6a4",
   "metadata": {},
   "outputs": [
    {
     "name": "stdout",
     "output_type": "stream",
     "text": [
      "('john', 30000)\n",
      "('divya', 40000)\n",
      "('shweta', 20000)\n"
     ]
    }
   ],
   "source": [
    "employee=[\"john\",\"divya\",\"shweta\"]   #modifcation of element\n",
    "salary=[30000,40000,20000]\n",
    "for i in zip (employee,salary):\n",
    "    print (i)\n"
   ]
  },
  {
   "cell_type": "code",
   "execution_count": 6,
   "id": "1b090016-563f-4fac-855e-ad432ac25612",
   "metadata": {},
   "outputs": [],
   "source": [
    "#DISCUSS THE IMPORTANCE OF DICTIONARY KEYS BEING IMMUTABLE AND PROVIDE EXAMPLES."
   ]
  },
  {
   "cell_type": "code",
   "execution_count": null,
   "id": "37e183ea-7a0b-490b-8675-6c12fb9f0db6",
   "metadata": {},
   "outputs": [],
   "source": [
    "#KEY is an essential argument and returns corresponding value if the key exists or when key does not exist it return python error."
   ]
  },
  {
   "cell_type": "code",
   "execution_count": 7,
   "id": "0df06136-25df-48d6-80e7-85a67edb55c2",
   "metadata": {},
   "outputs": [
    {
     "data": {
      "text/plain": [
       "{'cs': 20, 'eng': 30, 'ip': 25}"
      ]
     },
     "execution_count": 7,
     "metadata": {},
     "output_type": "execute_result"
    }
   ],
   "source": [
    "test={\"cs\":20,\"eng\":30,\"ip\":25}\n",
    "test"
   ]
  },
  {
   "cell_type": "code",
   "execution_count": 8,
   "id": "700062d6-911a-46f9-9923-77eb20a31f3d",
   "metadata": {},
   "outputs": [
    {
     "data": {
      "text/plain": [
       "dict"
      ]
     },
     "execution_count": 8,
     "metadata": {},
     "output_type": "execute_result"
    }
   ],
   "source": [
    "type(test)"
   ]
  },
  {
   "cell_type": "code",
   "execution_count": 10,
   "id": "7b83848a-2dc1-4e8c-a29e-b8df4d58dcf3",
   "metadata": {},
   "outputs": [
    {
     "data": {
      "text/plain": [
       "{'cs': 40, 'eng': 30, 'ip': 25}"
      ]
     },
     "execution_count": 10,
     "metadata": {},
     "output_type": "execute_result"
    }
   ],
   "source": [
    "test[\"cs\"]=40\n",
    "test"
   ]
  },
  {
   "cell_type": "code",
   "execution_count": 12,
   "id": "fcaa1393-3ea0-4152-b35b-b845caecd948",
   "metadata": {},
   "outputs": [
    {
     "ename": "KeyError",
     "evalue": "1",
     "output_type": "error",
     "traceback": [
      "\u001b[0;31m---------------------------------------------------------------------------\u001b[0m",
      "\u001b[0;31mKeyError\u001b[0m                                  Traceback (most recent call last)",
      "Cell \u001b[0;32mIn[12], line 1\u001b[0m\n\u001b[0;32m----> 1\u001b[0m \u001b[43mtest\u001b[49m\u001b[43m[\u001b[49m\u001b[38;5;241;43m1\u001b[39;49m\u001b[43m]\u001b[49m\n",
      "\u001b[0;31mKeyError\u001b[0m: 1"
     ]
    }
   ],
   "source": [
    "test[1]   #we can only access values of keys ,viceversa is not possible"
   ]
  },
  {
   "cell_type": "code",
   "execution_count": 14,
   "id": "900afd24-85db-4443-8bd9-0bd6ebb86e59",
   "metadata": {},
   "outputs": [
    {
     "data": {
      "text/plain": [
       "dict_keys(['cs', 'eng', 'ip'])"
      ]
     },
     "execution_count": 14,
     "metadata": {},
     "output_type": "execute_result"
    }
   ],
   "source": [
    "test.keys()"
   ]
  },
  {
   "cell_type": "code",
   "execution_count": 15,
   "id": "3959fddd-9db2-4a6e-ba68-37c78bccb7f5",
   "metadata": {},
   "outputs": [
    {
     "data": {
      "text/plain": [
       "dict_values([40, 30, 25])"
      ]
     },
     "execution_count": 15,
     "metadata": {},
     "output_type": "execute_result"
    }
   ],
   "source": [
    "test.values()"
   ]
  },
  {
   "cell_type": "code",
   "execution_count": 19,
   "id": "1a549285-d4f0-4d32-ab1a-2cd7a5429d80",
   "metadata": {},
   "outputs": [
    {
     "data": {
      "text/plain": [
       "{'cs': 40, 'eng': 30, 'ip': 25}"
      ]
     },
     "execution_count": 19,
     "metadata": {},
     "output_type": "execute_result"
    }
   ],
   "source": [
    "test.get(2)\n",
    "test"
   ]
  },
  {
   "cell_type": "code",
   "execution_count": null,
   "id": "1062c43a-aef0-46be-816e-1ef063420c63",
   "metadata": {},
   "outputs": [],
   "source": []
  }
 ],
 "metadata": {
  "kernelspec": {
   "display_name": "Python 3 (ipykernel)",
   "language": "python",
   "name": "python3"
  },
  "language_info": {
   "codemirror_mode": {
    "name": "ipython",
    "version": 3
   },
   "file_extension": ".py",
   "mimetype": "text/x-python",
   "name": "python",
   "nbconvert_exporter": "python",
   "pygments_lexer": "ipython3",
   "version": "3.10.8"
  }
 },
 "nbformat": 4,
 "nbformat_minor": 5
}
